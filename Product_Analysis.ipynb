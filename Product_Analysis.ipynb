{
  "nbformat": 4,
  "nbformat_minor": 0,
  "metadata": {
    "colab": {
      "provenance": []
    },
    "kernelspec": {
      "name": "python3",
      "display_name": "Python 3"
    },
    "language_info": {
      "name": "python"
    }
  },
  "cells": [
    {
      "cell_type": "code",
      "execution_count": 2,
      "metadata": {
        "colab": {
          "base_uri": "https://localhost:8080/"
        },
        "id": "Pxaq5JmFXM-W",
        "outputId": "6871db4f-5ccf-40f4-ac30-aba70b5b35eb"
      },
      "outputs": [
        {
          "output_type": "stream",
          "name": "stdout",
          "text": [
            "Top 5 most expensive products:\n",
            "1. Laptop, priced at $1200.0\n",
            "2. Phone, priced at $799.99\n",
            "3. Tablet, priced at $600.5\n",
            "4. Drone, priced at $599.99\n",
            "5. Camera, priced at $500.0\n",
            "Top 5 best-selling products:\n",
            "1. Charger, sold 100 items\n",
            "2. USB-C Cable, sold 90 items\n",
            "3. Mouse, sold 70 items\n",
            "4. Keyboard, sold 60 items\n",
            "5. Phone, sold 50 items\n",
            "Top 5 most profitable products:\n",
            "1. Phone, earned $39999.5\n",
            "2. Laptop, earned $36000.0\n",
            "3. Camera, earned $17500.0\n",
            "4. Tablet, earned $12010.0\n",
            "5. Monitor, earned $11999.6\n"
          ]
        }
      ],
      "source": [
        "import csv\n",
        "\n",
        "def most_expensive(products: list[dict], k: int = 3) -> list[dict]:\n",
        "    sorted_list = sorted(products,key=lambda x:(-x['price'], x['name']))\n",
        "    return sorted_list[:k]\n",
        "\n",
        "def bestsellers(products: list[dict], k: int = 3) -> list[dict]:\n",
        "    sorted_list = sorted(products, key=lambda x:(-x['sales'], x['name']))\n",
        "    return sorted_list[:k]\n",
        "\n",
        "\n",
        "def most_profitable(products: list[dict], k: int = 3) -> list[dict]:\n",
        "    sorted_list = sorted(products, key=lambda x:(-x['sales']*x['price'], x['name']))\n",
        "    return sorted_list[:k]\n",
        "\n",
        "def print_tops(products: list[dict], k: int = 3) -> None:\n",
        "    if k> len(products):\n",
        "        print('k cannot be larger than the number of products!')\n",
        "        return\n",
        "    a = most_expensive(products,k)\n",
        "    print(f'Top {k} most expensive products:')\n",
        "    for i, product in enumerate(a,1):\n",
        "        print(f'{i}. {product[\"name\"]}, priced at ${product[\"price\"]}')\n",
        "    b = bestsellers(products,k)\n",
        "    print(f'Top {k} best-selling products:')\n",
        "    for i, product in enumerate(b,1):\n",
        "        print(f'{i}. {product[\"name\"]}, sold {product[\"sales\"]} items')\n",
        "    c = most_profitable(products,k)\n",
        "    print(f'Top {k} most profitable products:')\n",
        "    for i, product in enumerate(c,1):\n",
        "        print(f'{i}. {product[\"name\"]}, earned ${product[\"price\"]*product[\"sales\"]}')\n",
        "\n",
        "\n",
        "def read_products(filename: str) -> list[dict]:\n",
        "    products = []\n",
        "    try:\n",
        "        with open(filename, 'r') as f:\n",
        "            reader = csv.DictReader(f)\n",
        "            for row in reader:\n",
        "                product = {\n",
        "                    'name': row['name'],\n",
        "                    'price': float(row['price']),\n",
        "                    'sales': int(row['sales'])\n",
        "                    }\n",
        "                products.append(product)\n",
        "        return products\n",
        "    except Exception as e:\n",
        "        print(e)\n",
        "        return []\n",
        "\n",
        "# Sample client\n",
        "if __name__ == \"__main__\":\n",
        "    electronics = read_products('products_list.csv')\n",
        "    print_tops(electronics, k=5)\n",
        "\n"
      ]
    }
  ]
}